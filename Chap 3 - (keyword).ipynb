{
 "cells": [
  {
   "cell_type": "markdown",
   "metadata": {},
   "source": [
    "# Range: in numpy Arange"
   ]
  },
  {
   "cell_type": "code",
   "execution_count": 1,
   "metadata": {},
   "outputs": [],
   "source": [
    "import numpy as np"
   ]
  },
  {
   "cell_type": "code",
   "execution_count": 4,
   "metadata": {},
   "outputs": [
    {
     "name": "stdout",
     "output_type": "stream",
     "text": [
      "[ 1  2  3  4  5  6  7  8  9 10 11 12 13 14 15 16 17 18 19 20 21 22 23 24\n",
      " 25 26 27 28 29 30 31 32 33 34 35 36 37 38 39 40 41 42 43 44 45 46 47 48\n",
      " 49 50 51 52 53 54 55 56 57 58 59 60 61 62 63 64 65 66 67 68 69 70 71 72\n",
      " 73 74 75 76 77 78 79 80 81 82 83 84 85 86 87 88 89 90 91 92 93 94 95 96\n",
      " 97 98 99]\n"
     ]
    }
   ],
   "source": [
    "#create a array to print counting 1 to 100\n",
    "\n",
    "counting=np.arange(1,100)\n",
    "print(counting)"
   ]
  },
  {
   "cell_type": "code",
   "execution_count": 5,
   "metadata": {},
   "outputs": [
    {
     "name": "stdout",
     "output_type": "stream",
     "text": [
      "[   1    4    9   16   25   36   49   64   81  100  121  144  169  196\n",
      "  225  256  289  324  361  400  441  484  529  576  625  676  729  784\n",
      "  841  900  961 1024 1089 1156 1225 1296 1369 1444 1521 1600 1681 1764\n",
      " 1849 1936 2025 2116 2209 2304 2401 2500 2601 2704 2809 2916 3025 3136\n",
      " 3249 3364 3481 3600 3721 3844 3969 4096 4225 4356 4489 4624 4761 4900\n",
      " 5041 5184 5329 5476 5625 5776 5929 6084 6241 6400 6561 6724 6889 7056\n",
      " 7225 7396 7569 7744 7921 8100 8281 8464 8649 8836 9025 9216 9409 9604\n",
      " 9801]\n"
     ]
    }
   ],
   "source": [
    "# create an array to print 10 squares...\n",
    "squares=np.arange(1,100)\n",
    "a=squares**2\n",
    "print(a)\n",
    "\n"
   ]
  },
  {
   "cell_type": "code",
   "execution_count": 6,
   "metadata": {},
   "outputs": [
    {
     "name": "stdout",
     "output_type": "stream",
     "text": [
      "[100  99  98  97  96  95  94  93  92  91  90  89  88  87  86  85  84  83\n",
      "  82  81  80  79  78  77  76  75  74  73  72  71  70  69  68  67  66  65\n",
      "  64  63  62  61  60  59  58  57  56  55  54  53  52  51  50  49  48  47\n",
      "  46  45  44  43  42  41  40  39  38  37  36  35  34  33  32  31  30  29\n",
      "  28  27  26  25  24  23  22  21  20  19  18  17  16  15  14  13  12  11\n",
      "  10   9   8   7   6   5   4   3   2]\n"
     ]
    }
   ],
   "source": [
    "reverse_counting=np.arange(100,1,-1)\n",
    "print(reverse_counting)"
   ]
  },
  {
   "cell_type": "code",
   "execution_count": 7,
   "metadata": {},
   "outputs": [
    {
     "name": "stdout",
     "output_type": "stream",
     "text": [
      "[0 2 4 6 8]\n"
     ]
    }
   ],
   "source": [
    "even_no=np.arange(0,10,2)\n",
    "print(even_no)"
   ]
  },
  {
   "cell_type": "code",
   "execution_count": 8,
   "metadata": {},
   "outputs": [
    {
     "name": "stdout",
     "output_type": "stream",
     "text": [
      "[1 3 5 7 9]\n"
     ]
    }
   ],
   "source": [
    "odd_no=np.arange(1,10,2)\n",
    "print(odd_no)"
   ]
  },
  {
   "cell_type": "code",
   "execution_count": 12,
   "metadata": {},
   "outputs": [
    {
     "name": "stdout",
     "output_type": "stream",
     "text": [
      "======================================\n",
      "Table:your range,your table selection by using arange function\n",
      "======================================\n",
      "Enter a start range of the table : 1\n",
      "Enter a end range of the table : 50\n",
      "Enter a number of the table : 10\n",
      "10   20   30   40   50   60   70   80   90   100   110   120   130   140   150   160   170   180   190   200   210   220   230   240   250   260   270   280   290   300   310   320   330   340   350   360   370   380   390   400   410   420   430   440   450   460   470   480   490   500   "
     ]
    }
   ],
   "source": [
    "\n",
    "print(\"======================================\")\n",
    "print(\"Table:your range,your table selection by using arange function\")\n",
    "print(\"======================================\")\n",
    "ran_start=int(input(\"Enter a start range of the table : \"))\n",
    "ran_End=int(input(\"Enter a end range of the table : \"))\n",
    "ran_table=int(input(\"Enter a number of the table : \"))\n",
    "rangee=np.arange(ran_start,ran_End+1)\n",
    "table=rangee*ran_table\n",
    "for i in table:\n",
    "    print(i,end=\"   \")\n",
    "\n",
    "\n",
    "\n",
    "\n",
    "\n",
    "\n",
    "\n"
   ]
  },
  {
   "cell_type": "markdown",
   "metadata": {},
   "source": [
    "# linspace\n",
    "A nmber break down into other parts"
   ]
  },
  {
   "cell_type": "code",
   "execution_count": null,
   "metadata": {},
   "outputs": [],
   "source": [
    "ran_start=int(input(\"Enter a start range of the number : \"))\n",
    "ran_End=int(input(\"Enter a end range of the number : \"))\n",
    "n_p=int(input(\"How many piceces do you want to entered Ending number : \"))\n",
    "a=np.linspace(ran_start,ran_End,n_p)\n",
    "print(a)\n"
   ]
  },
  {
   "cell_type": "code",
   "execution_count": null,
   "metadata": {},
   "outputs": [],
   "source": [
    "a=np.linspace(2,10,10)\n",
    "print(a)"
   ]
  },
  {
   "cell_type": "markdown",
   "metadata": {},
   "source": [
    "# Reshape"
   ]
  },
  {
   "cell_type": "code",
   "execution_count": null,
   "metadata": {},
   "outputs": [],
   "source": [
    "_1d_array=np.array([1,2,3,4,5,6])\n",
    "print(_1d_array)\n",
    "\n",
    "print(_1d_array.ndim)\n",
    "_2d_array=_1d_array.reshape((2,3))\n",
    "print(_2d_array)\n",
    "print(_2d_array.ndim)\n"
   ]
  },
  {
   "cell_type": "code",
   "execution_count": null,
   "metadata": {},
   "outputs": [],
   "source": [
    "a=np.array([[1,2,3],[1,5,7]])\n",
    "print(a)\n",
    "print(a.ndim)\n",
    "b=a.reshape(6)\n",
    "print(b)\n",
    "print(b.ndim)\n",
    "\n",
    "\n",
    "c=a.reshape(1,3,2)\n",
    "print(c)\n",
    "print(c.ndim)\n"
   ]
  },
  {
   "cell_type": "code",
   "execution_count": null,
   "metadata": {},
   "outputs": [],
   "source": [
    "ar=np.array([[[1,3,5],[1,3,5]] , [[1,3,5],[1,3,5]] , [[1,3,5],[1,3,5]]])\n",
    "print(ar.shape)\n",
    "print(ar.size)\n",
    "print(ar.ndim)\n",
    "a=ar.reshape(18,)\n",
    "print(a.ndim)\n",
    "\n",
    "\n",
    "b=ar.reshape(3,6)\n",
    "print(b)\n",
    "print(b.shape)\n",
    "print(b.size)\n",
    "print(b.ndim)\n",
    "\n",
    "\n",
    "\n",
    "c=ar.reshape(2,9)\n",
    "print(c)\n",
    "print(c.shape)\n",
    "print(c.size)\n",
    "\n",
    "\n",
    "\n",
    "\n"
   ]
  },
  {
   "cell_type": "code",
   "execution_count": null,
   "metadata": {},
   "outputs": [],
   "source": [
    "D=np.array([[[1,2,3],[4,5,6],[7,8,9]],[[10,11,12],[13,14,15],[15,16,17]],[[18,19,20],[21,22,23],[24,25,26]]])\n",
    "D[1,1,0:2]"
   ]
  },
  {
   "cell_type": "code",
   "execution_count": 14,
   "metadata": {},
   "outputs": [
    {
     "name": "stdout",
     "output_type": "stream",
     "text": [
      "=====================\n",
      "Creating Dimensions\n",
      "=====================\n",
      "1 Dimensions\n",
      "=====================\n",
      "\n",
      "3D array is  :\n",
      "[[[ 1  2  3]\n",
      "  [ 4  5  6]\n",
      "  [ 7  8  9]]\n",
      "\n",
      " [[10 11 12]\n",
      "  [13 14 15]\n",
      "  [15 16 17]]\n",
      "\n",
      " [[18 19 20]\n",
      "  [21 22 23]\n",
      "  [24 25 26]]]\n",
      "\n",
      "Dimension of 3D : 3\n",
      "\n",
      "Size of an 3D array : 27\n",
      "\n",
      "=====================\n",
      "2 - Dimensions\n",
      "=====================\n",
      "\n",
      "2D array is  :\n",
      "[[ 1  2  3  4  5  6  7  8  9]\n",
      " [10 11 12 13 14 15 15 16 17]\n",
      " [18 19 20 21 22 23 24 25 26]]\n",
      "\n",
      "Dimension of 2D : 2\n",
      "\n",
      "Size of an 2D array : 27\n",
      "\n",
      "=====================\n",
      "3 - Dimensions\n",
      "=====================\n",
      "\n",
      "1D array is  :\n",
      "[ 1  2  3  4  5  6  7  8  9 10 11 12 13 14 15 15 16 17 18 19 20 21 22 23\n",
      " 24 25 26]\n",
      "\n",
      "Dimension of 1D : 1\n",
      "\n",
      "Size of an 1D array : 27\n",
      "\n"
     ]
    }
   ],
   "source": [
    "print('=====================')\n",
    "print(\"Creating Dimensions\")\n",
    "\n",
    "print('=====================')\n",
    "print(\"1 Dimensions\")\n",
    "print(\"=====================\\n\")\n",
    "_3D_array=np.array([[[1,2,3],[4,5,6],[7,8,9]],[[10,11,12],[13,14,15],[15,16,17]],[[18,19,20],[21,22,23],[24,25,26]]])\n",
    "print(f\"3D array is  :\\n{_3D_array}\\n\")\n",
    "print(f\"Dimension of 3D : {_3D_array.ndim}\\n\")\n",
    "print(f\"Size of an 3D array : {_3D_array.size}\\n\")\n",
    "\n",
    "\n",
    "print('=====================')\n",
    "print(\"2 - Dimensions\")\n",
    "print(\"=====================\\n\")\n",
    "_2D_array=_3D_array.reshape(3,9)\n",
    "print(f\"2D array is  :\\n{_2D_array}\\n\")\n",
    "print(f\"Dimension of 2D : {_2D_array.ndim}\\n\")\n",
    "print(f\"Size of an 2D array : {_2D_array.size}\\n\")\n",
    "\n",
    "\n",
    "\n",
    "\n",
    "\n",
    "print('=====================')\n",
    "print(\"3 - Dimensions\")\n",
    "print(\"=====================\\n\")\n",
    "_1D_array=_2D_array.reshape(27,)\n",
    "print(f\"1D array is  :\\n{_1D_array}\\n\")\n",
    "print(f\"Dimension of 1D : {_1D_array.ndim}\\n\")\n",
    "print(f\"Size of an 1D array : {_1D_array.size}\\n\")"
   ]
  },
  {
   "cell_type": "code",
   "execution_count": null,
   "metadata": {},
   "outputs": [],
   "source": [
    "import numpy as np\n",
    "print(\"You can Created desireable matrix\")\n",
    "print(\"==================================\\n\")\n",
    "start_range=int(input(\"Enter a no of rows : \"))\n",
    "End_range=int(input(\"Enter a no of coloumns : \"))\n",
    "no=int(input(\"Enter a number ,Would you like to create a matrix : \"))\n",
    "a=np.ones((start_range,End_range))*no\n",
    "print(a)"
   ]
  },
  {
   "cell_type": "markdown",
   "metadata": {},
   "source": [
    "# Ravel\n",
    "multi dimestion into one dimension"
   ]
  },
  {
   "cell_type": "code",
   "execution_count": 11,
   "metadata": {},
   "outputs": [
    {
     "name": "stdout",
     "output_type": "stream",
     "text": [
      "3\n",
      "[[[ 1  2  3]\n",
      "  [ 4  5  6]\n",
      "  [ 7  8  9]]\n",
      "\n",
      " [[10 11 12]\n",
      "  [13 14 15]\n",
      "  [15 16 17]]\n",
      "\n",
      " [[18 19 20]\n",
      "  [21 22 23]\n",
      "  [24 25 26]]]\n",
      "[ 1  2  3  4  5  6  7  8  9 10 11 12 13 14 15 15 16 17 18 19 20 21 22 23\n",
      " 24 25 26]\n",
      "1\n"
     ]
    }
   ],
   "source": [
    "D=np.array([[[1,2,3],[4,5,6],[7,8,9]],[[10,11,12],[13,14,15],[15,16,17]],[[18,19,20],[21,22,23],[24,25,26]]])\n",
    "print(D.ndim)\n",
    "print(D)\n",
    "a=D.ravel()\n",
    "print(a)\n",
    "print(a.ndim)\n"
   ]
  },
  {
   "cell_type": "code",
   "execution_count": 18,
   "metadata": {},
   "outputs": [
    {
     "name": "stdout",
     "output_type": "stream",
     "text": [
      "[[3 4 6]\n",
      " [3 4 5]]\n",
      "[3 4 6 3 4 5]\n",
      "[100   4   6   3   4   5]\n",
      "[[100   4   6]\n",
      " [  3   4   5]]\n"
     ]
    }
   ],
   "source": [
    "list1=np.array([[3,4,6],[3,4,5]])\n",
    "print(list1)\n",
    "rav=list1.ravel()\n",
    "print(rav)\n",
    "rav[0]=100\n",
    "print(rav)\n",
    "print(list1)\n",
    "\n"
   ]
  },
  {
   "cell_type": "code",
   "execution_count": 24,
   "metadata": {},
   "outputs": [
    {
     "name": "stdout",
     "output_type": "stream",
     "text": [
      "[3 4 6 3 4 5]\n",
      "[1000    4    6    3    4    5]\n",
      "[[3 4 6]\n",
      " [3 4 5]]\n"
     ]
    }
   ],
   "source": [
    "list1=np.array([[3,4,6],[3,4,5]])\n",
    "flat=list1.flatten()\n",
    "print(flat)\n",
    "\n",
    "flat[0]=1000\n",
    "print(flat)\n",
    "\n",
    "print(list1)"
   ]
  },
  {
   "cell_type": "code",
   "execution_count": 3,
   "metadata": {},
   "outputs": [
    {
     "name": "stdout",
     "output_type": "stream",
     "text": [
      "Major diffrence b/w ravel and flatten\n",
      "\n",
      "---------------  Ravel -----------\n",
      "Original array :\n",
      "[[1 4 5 6]\n",
      " [2 6 8 8]]\n",
      "\n",
      "After Ravel : [1 4 5 6 2 6 8 8]\n",
      "------------  After Change the indexing value -------------------\n",
      "After change the value of Ravel index : [5 4 5 6 2 6 8 8]\n",
      "------------------Original 2D array before ravel--------------------------\n",
      "[[5 4 5 6]\n",
      " [2 6 8 8]]\n",
      "Note : change the original value with change the vlaue of ravel indexing....\n"
     ]
    }
   ],
   "source": [
    "print(\"Major diffrence b/w ravel and flatten\\n\")\n",
    "\n",
    "print(\"---------------  Ravel -----------\")  #its convert multidimentional array into one dimentional.\n",
    "_2D_arry=np.array([[1,4,5,6] , [2,6,8,8]])\n",
    "print(f\"Original array :\\n{_2D_arry}\\n\")\n",
    "_1D_arry=_2D_arry.ravel()\n",
    "print(f\"After Ravel : { _1D_arry }\")\n",
    "\n",
    "print(\"------------  After Change the indexing value -------------------\")\n",
    "_1D_arry[0]=5\n",
    "print(f\"After change the value of Ravel index : { _1D_arry }\")\n",
    "print(\"------------------Original 2D array before ravel--------------------------\")\n",
    "print(_2D_arry)\n",
    "print(\"Note : change the original value with change the vlaue of ravel indexing....\")\n",
    "\n"
   ]
  },
  {
   "cell_type": "code",
   "execution_count": 2,
   "metadata": {},
   "outputs": [
    {
     "name": "stdout",
     "output_type": "stream",
     "text": [
      "--------------- Flatten -----------\n",
      "Original array :\n",
      "[[1 4 5 6]\n",
      " [2 6 8 8]]\n",
      "\n",
      "After Flatten : [1 4 5 6 2 6 8 8]\n",
      "------------  After Change the indexing value -------------------\n",
      "After change the value of flatten index : [5 4 5 6 2 6 8 8]\n",
      "------------------ Original 2D array before flatten --------------------------\n",
      "[[1 4 5 6]\n",
      " [2 6 8 8]]\n",
      "Note : No change the original value with change the vlaue of ravel indexing....\n"
     ]
    }
   ],
   "source": [
    "_2D_arry=np.array([[1,4,5,6] , [2,6,8,8]])\n",
    "\n",
    "print(\"--------------- Flatten -----------\")  #its convert multidimentional array into one dimentional.\n",
    "print(f\"Original array :\\n{_2D_arry}\\n\")\n",
    "_1D_arry=_2D_arry.flatten()\n",
    "print(f\"After Flatten : { _1D_arry }\")\n",
    "\n",
    "print(\"------------  After Change the indexing value -------------------\")\n",
    "_1D_arry[0]=5\n",
    "print(f\"After change the value of flatten index : { _1D_arry }\")\n",
    "print(\"------------------ Original 2D array before flatten --------------------------\")\n",
    "print(_2D_arry)\n",
    "print(\"Note : No change the original value with change the vlaue of ravel indexing....\")"
   ]
  },
  {
   "cell_type": "markdown",
   "metadata": {},
   "source": [
    "# Transpose"
   ]
  },
  {
   "cell_type": "code",
   "execution_count": 4,
   "metadata": {},
   "outputs": [
    {
     "name": "stdout",
     "output_type": "stream",
     "text": [
      "[[1 4 5 6]\n",
      " [2 6 8 8]]\n",
      "[[1 2]\n",
      " [4 6]\n",
      " [5 8]\n",
      " [6 8]]\n",
      "\n",
      "[[1 2]\n",
      " [4 6]\n",
      " [5 8]\n",
      " [6 8]]\n"
     ]
    }
   ],
   "source": [
    "_2D_arry=np.array([[1,4,5,6] , [2,6,8,8]])\n",
    "print(_2D_arry)\n",
    "\n",
    "a=_2D_arry.T\n",
    "print(a)\n",
    "\n",
    "\n",
    "\n",
    "print()\n",
    "b=_2D_arry.transpose\n",
    "print(a)"
   ]
  },
  {
   "cell_type": "code",
   "execution_count": 18,
   "metadata": {},
   "outputs": [
    {
     "name": "stdout",
     "output_type": "stream",
     "text": [
      "[[ 0  1  2  3  4  5  6  7  8  9]\n",
      " [10 11 12 13 14 15 16 17 18 19]]\n"
     ]
    }
   ],
   "source": [
    "arra1=np.arange(20)\n",
    "_1D=arra1.reshape(2,10)\n",
    "print(_1D)\n"
   ]
  },
  {
   "cell_type": "code",
   "execution_count": 38,
   "metadata": {},
   "outputs": [
    {
     "name": "stdout",
     "output_type": "stream",
     "text": [
      "[[[1. 1. 1. 1. 1. 1. 1. 1. 1. 1. 1. 1. 1. 1. 1. 1. 1. 1. 1. 1. 1. 1. 1.\n",
      "   1. 1. 1. 1. 1. 1. 1. 1. 1. 1. 1. 1. 1. 1. 1. 1. 1. 1. 1. 1. 1. 1. 1.\n",
      "   1. 1. 1. 1. 1. 1. 1. 1. 1. 1. 1. 1. 1. 1. 1. 1. 1. 1. 1. 1. 1. 1. 1.\n",
      "   1. 1. 1. 1. 1. 1. 1. 1. 1. 1. 1. 1. 1. 1. 1. 1. 1. 1. 1. 1. 1. 1. 1.\n",
      "   1. 1. 1. 1. 1. 1. 1. 1.]\n",
      "  [1. 1. 1. 1. 1. 1. 1. 1. 1. 1. 1. 1. 1. 1. 1. 1. 1. 1. 1. 1. 1. 1. 1.\n",
      "   1. 1. 1. 1. 1. 1. 1. 1. 1. 1. 1. 1. 1. 1. 1. 1. 1. 1. 1. 1. 1. 1. 1.\n",
      "   1. 1. 1. 1. 1. 1. 1. 1. 1. 1. 1. 1. 1. 1. 1. 1. 1. 1. 1. 1. 1. 1. 1.\n",
      "   1. 1. 1. 1. 1. 1. 1. 1. 1. 1. 1. 1. 1. 1. 1. 1. 1. 1. 1. 1. 1. 1. 1.\n",
      "   1. 1. 1. 1. 1. 1. 1. 1.]]\n",
      "\n",
      " [[1. 1. 1. 1. 1. 1. 1. 1. 1. 1. 1. 1. 1. 1. 1. 1. 1. 1. 1. 1. 1. 1. 1.\n",
      "   1. 1. 1. 1. 1. 1. 1. 1. 1. 1. 1. 1. 1. 1. 1. 1. 1. 1. 1. 1. 1. 1. 1.\n",
      "   1. 1. 1. 1. 1. 1. 1. 1. 1. 1. 1. 1. 1. 1. 1. 1. 1. 1. 1. 1. 1. 1. 1.\n",
      "   1. 1. 1. 1. 1. 1. 1. 1. 1. 1. 1. 1. 1. 1. 1. 1. 1. 1. 1. 1. 1. 1. 1.\n",
      "   1. 1. 1. 1. 1. 1. 1. 1.]\n",
      "  [1. 1. 1. 1. 1. 1. 1. 1. 1. 1. 1. 1. 1. 1. 1. 1. 1. 1. 1. 1. 1. 1. 1.\n",
      "   1. 1. 1. 1. 1. 1. 1. 1. 1. 1. 1. 1. 1. 1. 1. 1. 1. 1. 1. 1. 1. 1. 1.\n",
      "   1. 1. 1. 1. 1. 1. 1. 1. 1. 1. 1. 1. 1. 1. 1. 1. 1. 1. 1. 1. 1. 1. 1.\n",
      "   1. 1. 1. 1. 1. 1. 1. 1. 1. 1. 1. 1. 1. 1. 1. 1. 1. 1. 1. 1. 1. 1. 1.\n",
      "   1. 1. 1. 1. 1. 1. 1. 1.]]]\n",
      "3\n"
     ]
    }
   ],
   "source": [
    "arra1=np.ones((20,20))\n",
    "# _1D=arra1.reshape(400)   #size is 400\n",
    "# print(_1D)\n",
    "\n",
    "# print(_1D.ndim)\n",
    "\n",
    "\n",
    "\n",
    "_1D=arra1.reshape(2,2,100)   #size is 400\n",
    "print(_1D)\n",
    "\n",
    "print(_1D.ndim)\n"
   ]
  },
  {
   "cell_type": "code",
   "execution_count": 42,
   "metadata": {},
   "outputs": [
    {
     "name": "stdout",
     "output_type": "stream",
     "text": [
      "[[[1. 1. 1. 1. 1. 1. 1. 1. 1. 1. 1. 1. 1. 1. 1. 1. 1. 1. 1. 1.]\n",
      "  [1. 1. 1. 1. 1. 1. 1. 1. 1. 1. 1. 1. 1. 1. 1. 1. 1. 1. 1. 1.]]\n",
      "\n",
      " [[1. 1. 1. 1. 1. 1. 1. 1. 1. 1. 1. 1. 1. 1. 1. 1. 1. 1. 1. 1.]\n",
      "  [1. 1. 1. 1. 1. 1. 1. 1. 1. 1. 1. 1. 1. 1. 1. 1. 1. 1. 1. 1.]]\n",
      "\n",
      " [[1. 1. 1. 1. 1. 1. 1. 1. 1. 1. 1. 1. 1. 1. 1. 1. 1. 1. 1. 1.]\n",
      "  [1. 1. 1. 1. 1. 1. 1. 1. 1. 1. 1. 1. 1. 1. 1. 1. 1. 1. 1. 1.]]\n",
      "\n",
      " [[1. 1. 1. 1. 1. 1. 1. 1. 1. 1. 1. 1. 1. 1. 1. 1. 1. 1. 1. 1.]\n",
      "  [1. 1. 1. 1. 1. 1. 1. 1. 1. 1. 1. 1. 1. 1. 1. 1. 1. 1. 1. 1.]]\n",
      "\n",
      " [[1. 1. 1. 1. 1. 1. 1. 1. 1. 1. 1. 1. 1. 1. 1. 1. 1. 1. 1. 1.]\n",
      "  [1. 1. 1. 1. 1. 1. 1. 1. 1. 1. 1. 1. 1. 1. 1. 1. 1. 1. 1. 1.]]\n",
      "\n",
      " [[1. 1. 1. 1. 1. 1. 1. 1. 1. 1. 1. 1. 1. 1. 1. 1. 1. 1. 1. 1.]\n",
      "  [1. 1. 1. 1. 1. 1. 1. 1. 1. 1. 1. 1. 1. 1. 1. 1. 1. 1. 1. 1.]]\n",
      "\n",
      " [[1. 1. 1. 1. 1. 1. 1. 1. 1. 1. 1. 1. 1. 1. 1. 1. 1. 1. 1. 1.]\n",
      "  [1. 1. 1. 1. 1. 1. 1. 1. 1. 1. 1. 1. 1. 1. 1. 1. 1. 1. 1. 1.]]\n",
      "\n",
      " [[1. 1. 1. 1. 1. 1. 1. 1. 1. 1. 1. 1. 1. 1. 1. 1. 1. 1. 1. 1.]\n",
      "  [1. 1. 1. 1. 1. 1. 1. 1. 1. 1. 1. 1. 1. 1. 1. 1. 1. 1. 1. 1.]]\n",
      "\n",
      " [[1. 1. 1. 1. 1. 1. 1. 1. 1. 1. 1. 1. 1. 1. 1. 1. 1. 1. 1. 1.]\n",
      "  [1. 1. 1. 1. 1. 1. 1. 1. 1. 1. 1. 1. 1. 1. 1. 1. 1. 1. 1. 1.]]\n",
      "\n",
      " [[1. 1. 1. 1. 1. 1. 1. 1. 1. 1. 1. 1. 1. 1. 1. 1. 1. 1. 1. 1.]\n",
      "  [1. 1. 1. 1. 1. 1. 1. 1. 1. 1. 1. 1. 1. 1. 1. 1. 1. 1. 1. 1.]]]\n",
      "3\n"
     ]
    }
   ],
   "source": [
    "# arra2=np.ones((20,20))\n",
    "# _3D=arra1.reshape(2,2,100)  #size is 400\n",
    "# print(_3D)\n",
    "# print(_3D.ndim)\n",
    "\n",
    "\n",
    "\n",
    "arra22=np.ones((20,20))\n",
    "_2D=arra1.reshape(10,2,20)  #size is 400\n",
    "print(_2D)\n",
    "print(_2D.ndim)\n",
    "\n",
    "\n"
   ]
  },
  {
   "cell_type": "code",
   "execution_count": 31,
   "metadata": {},
   "outputs": [
    {
     "ename": "SyntaxError",
     "evalue": "invalid syntax (<ipython-input-31-6c47ca0e2927>, line 1)",
     "output_type": "error",
     "traceback": [
      "\u001b[1;36m  File \u001b[1;32m\"<ipython-input-31-6c47ca0e2927>\"\u001b[1;36m, line \u001b[1;32m1\u001b[0m\n\u001b[1;33m    a = [[ 0  1]\u001b[0m\n\u001b[1;37m              ^\u001b[0m\n\u001b[1;31mSyntaxError\u001b[0m\u001b[1;31m:\u001b[0m invalid syntax\n"
     ]
    }
   ],
   "source": [
    "a = [[ 0  1]\n",
    " [ 2  3]\n",
    " [ 4  5]\n",
    " [ 6  7]\n",
    " [ 8  9]\n",
    " [10 11]\n",
    " [12 13]\n",
    " [14 15]\n",
    " [16 17]]"
   ]
  },
  {
   "cell_type": "code",
   "execution_count": null,
   "metadata": {},
   "outputs": [],
   "source": []
  }
 ],
 "metadata": {
  "kernelspec": {
   "display_name": "Python 3",
   "language": "python",
   "name": "python3"
  },
  "language_info": {
   "codemirror_mode": {
    "name": "ipython",
    "version": 3
   },
   "file_extension": ".py",
   "mimetype": "text/x-python",
   "name": "python",
   "nbconvert_exporter": "python",
   "pygments_lexer": "ipython3",
   "version": "3.7.3"
  }
 },
 "nbformat": 4,
 "nbformat_minor": 2
}
