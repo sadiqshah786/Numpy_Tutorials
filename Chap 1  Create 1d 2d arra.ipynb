{
 "cells": [
  {
   "cell_type": "markdown",
   "metadata": {},
   "source": [
    "# Numpy:\n",
    "its is the library of python is perform data according to 1d and 2d array"
   ]
  },
  {
   "cell_type": "code",
   "execution_count": 8,
   "metadata": {},
   "outputs": [],
   "source": [
    "import numpy as np    #cltr+Enter= only  and  shift+ENter=execute and create a new cell.."
   ]
  },
  {
   "cell_type": "markdown",
   "metadata": {},
   "source": [
    "# 1D Array"
   ]
  },
  {
   "cell_type": "code",
   "execution_count": 11,
   "metadata": {},
   "outputs": [
    {
     "name": "stdout",
     "output_type": "stream",
     "text": [
      "[1 2 3 4]\n",
      "<class 'numpy.ndarray'>\n"
     ]
    }
   ],
   "source": [
    "# np is  a key word and array is a constant....\n",
    "\n",
    "one_d_array=np.array([1,2,3,4])\n",
    "print(one_d_array)\n",
    "print(type(one_d_array))"
   ]
  },
  {
   "cell_type": "markdown",
   "metadata": {},
   "source": [
    "# find dimension and size of Array"
   ]
  },
  {
   "cell_type": "code",
   "execution_count": 26,
   "metadata": {
    "scrolled": true
   },
   "outputs": [
    {
     "name": "stdout",
     "output_type": "stream",
     "text": [
      "1\n",
      "4\n"
     ]
    }
   ],
   "source": [
    "# name.ndim  (name of dimension)\n",
    "print(one_d_array.ndim)   #one dimension array\n",
    "print(one_d_array.size)\n",
    "\n"
   ]
  },
  {
   "cell_type": "markdown",
   "metadata": {},
   "source": [
    "# 2D Array"
   ]
  },
  {
   "cell_type": "code",
   "execution_count": 39,
   "metadata": {},
   "outputs": [
    {
     "name": "stdout",
     "output_type": "stream",
     "text": [
      "With for loop\n",
      "[1 2 3 4 5 6]\n",
      "[ 1  3  6  7  8 76]\n",
      "\n",
      "\n",
      "Without for loop\n",
      "[[ 1  2  3  4  5  6]\n",
      " [ 1  3  6  7  8 76]]\n",
      "\n",
      "Dimension of Array is : 2D\n",
      "\n",
      "Size of Array is : 12\n"
     ]
    }
   ],
   "source": [
    "print(\"With for loop\")\n",
    "_2D_array=np.array([[1,2,3,4,5,6],[1,3,6,7,8,76]])\n",
    "for i in _2D_array:\n",
    "    print(i)\n",
    "print(\"\\n\")\n",
    "print(\"Without for loop\")\n",
    "print(_2D_array)\n",
    "\n",
    "#dimension  and size of array\n",
    "\n",
    "print(f\"\\nDimension of Array is : {_2D_array.ndim}D\")\n",
    "print(f\"\\nSize of Array is : {_2D_array.size}\")"
   ]
  },
  {
   "cell_type": "code",
   "execution_count": 35,
   "metadata": {},
   "outputs": [
    {
     "name": "stdout",
     "output_type": "stream",
     "text": [
      "[[['sadiq shah' 'Ali' 'Kashif']\n",
      "  ['12' '45' '65']]]\n"
     ]
    }
   ],
   "source": [
    "# names=['sadiq shah','Ali',\"Kashif\"]\n",
    "# ages=[12,45,65]\n",
    "# _2d_array=np.array([[names,ages]])\n",
    "# print(_2d_array)"
   ]
  },
  {
   "cell_type": "markdown",
   "metadata": {},
   "source": [
    "# shapes of an Array\n",
    "how many rows\n",
    "\n",
    "how many coloumns"
   ]
  },
  {
   "cell_type": "code",
   "execution_count": 46,
   "metadata": {},
   "outputs": [
    {
     "data": {
      "text/plain": [
       "(2, 6)"
      ]
     },
     "execution_count": 46,
     "metadata": {},
     "output_type": "execute_result"
    }
   ],
   "source": [
    "# 1st list=row\n",
    "# 2nd list=coloumn\n",
    "# _2d_array=np.array([[1,2,3],[1,2,3]])\n",
    "_2D_array.shape \n",
    "# (2,6)   here 2 is the number of rows and 6 is the number of coloumns "
   ]
  },
  {
   "cell_type": "markdown",
   "metadata": {},
   "source": [
    "# check data type"
   ]
  },
  {
   "cell_type": "code",
   "execution_count": 51,
   "metadata": {},
   "outputs": [
    {
     "name": "stdout",
     "output_type": "stream",
     "text": [
      "The data type of the 2D array is : int32\n"
     ]
    }
   ],
   "source": [
    "print(f\"The data type of the 2D array is : {_2D_array.dtype}\")"
   ]
  },
  {
   "cell_type": "code",
   "execution_count": null,
   "metadata": {},
   "outputs": [],
   "source": []
  }
 ],
 "metadata": {
  "kernelspec": {
   "display_name": "Python 3",
   "language": "python",
   "name": "python3"
  },
  "language_info": {
   "codemirror_mode": {
    "name": "ipython",
    "version": 3
   },
   "file_extension": ".py",
   "mimetype": "text/x-python",
   "name": "python",
   "nbconvert_exporter": "python",
   "pygments_lexer": "ipython3",
   "version": "3.7.3"
  }
 },
 "nbformat": 4,
 "nbformat_minor": 2
}
