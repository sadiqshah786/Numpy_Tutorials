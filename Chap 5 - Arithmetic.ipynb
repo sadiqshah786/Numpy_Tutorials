{
 "cells": [
  {
   "cell_type": "code",
   "execution_count": 77,
   "metadata": {},
   "outputs": [],
   "source": [
    "import numpy as np"
   ]
  },
  {
   "cell_type": "code",
   "execution_count": 6,
   "metadata": {},
   "outputs": [
    {
     "name": "stdout",
     "output_type": "stream",
     "text": [
      "[[1 2 3]\n",
      " [4 5 6]\n",
      " [7 8 9]]\n",
      "    +\n",
      "[[1 2 3]\n",
      " [4 5 6]\n",
      " [7 8 9]]\n",
      "\n",
      "Addition of two arrays \n",
      " [[ 2  4  6]\n",
      " [ 8 10 12]\n",
      " [14 16 18]]\n"
     ]
    }
   ],
   "source": [
    "array1=np.arange(1,10).reshape(3,3)\n",
    "array2=np.arange(1,10).reshape(3,3)\n",
    "print(array1)\n",
    "print(\"    +\")\n",
    "print(array2)\n",
    "print()\n",
    "add_array=array1 + array2 \n",
    "\n",
    "print(\"Addition of two arrays \\n\", add_array)"
   ]
  },
  {
   "cell_type": "markdown",
   "metadata": {},
   "source": [
    "# BY functions:"
   ]
  },
  {
   "cell_type": "markdown",
   "metadata": {},
   "source": [
    "# Add sub mul divide"
   ]
  },
  {
   "cell_type": "code",
   "execution_count": 7,
   "metadata": {},
   "outputs": [
    {
     "name": "stdout",
     "output_type": "stream",
     "text": [
      "Addition of two array is : \n",
      "[[ 2  4  6]\n",
      " [ 8 10 12]\n",
      " [14 16 18]]\n",
      "\n",
      "SUbtraction of two array is : \n",
      "[[0 0 0]\n",
      " [0 0 0]\n",
      " [0 0 0]]\n",
      "\n",
      "Multiplication of two array is : \n",
      "[[ 1  4  9]\n",
      " [16 25 36]\n",
      " [49 64 81]]\n",
      "\n",
      "Division of two array is : \n",
      "[[1. 1. 1.]\n",
      " [1. 1. 1.]\n",
      " [1. 1. 1.]]\n"
     ]
    }
   ],
   "source": [
    "array1=np.arange(1,10).reshape(3,3)\n",
    "array2=np.arange(1,10).reshape(3,3)\n",
    "\n",
    "add=np.add(array1 , array2)\n",
    "print(f\"Addition of two array is : \\n{add}\")\n",
    "\n",
    "print( )\n",
    "sub=np.subtract(array1 , array2)\n",
    "print(f\"SUbtraction of two array is : \\n{sub}\")\n",
    "\n",
    "print( )\n",
    "mul=np.multiply(array1,array2)\n",
    "print(f\"Multiplication of two array is : \\n{mul}\")\n",
    "\n",
    "print( )\n",
    "divide=np.divide(array1 , array2)\n",
    "print(f\"Division of two array is : \\n{divide}\")\n",
    "\n"
   ]
  },
  {
   "cell_type": "markdown",
   "metadata": {},
   "source": [
    "# Matrix multiplication"
   ]
  },
  {
   "cell_type": "markdown",
   "metadata": {},
   "source": [
    "# simple operators"
   ]
  },
  {
   "cell_type": "code",
   "execution_count": 8,
   "metadata": {},
   "outputs": [
    {
     "name": "stdout",
     "output_type": "stream",
     "text": [
      "[[ 30  36  42]\n",
      " [ 66  81  96]\n",
      " [102 126 150]]\n"
     ]
    }
   ],
   "source": [
    "matrix=array1 @ array2\n",
    "print(matrix)"
   ]
  },
  {
   "cell_type": "markdown",
   "metadata": {},
   "source": [
    "# By function"
   ]
  },
  {
   "cell_type": "code",
   "execution_count": 9,
   "metadata": {},
   "outputs": [
    {
     "name": "stdout",
     "output_type": "stream",
     "text": [
      "[[ 30  36  42]\n",
      " [ 66  81  96]\n",
      " [102 126 150]]\n"
     ]
    }
   ],
   "source": [
    "matrix=np.dot(array1,array2)\n",
    "print(matrix)"
   ]
  },
  {
   "cell_type": "markdown",
   "metadata": {},
   "source": [
    "# Max and min value"
   ]
  },
  {
   "cell_type": "code",
   "execution_count": 10,
   "metadata": {},
   "outputs": [
    {
     "name": "stdout",
     "output_type": "stream",
     "text": [
      "Max values array1 : 9\n",
      "Min value of array1: 9\n",
      "\n",
      "Max values array2 : 1\n",
      "Min value of array2: 1\n"
     ]
    }
   ],
   "source": [
    "matrix1=np.max(array1)\n",
    "matrix2=np.min(array2)                 # max values\n",
    "print(f\"Max values array1 : {matrix1}\\nMin value of array1: {matrix1}\") # min values\n",
    "print()\n",
    "print(f\"Max values array2 : {matrix2}\\nMin value of array2: {matrix2}\") \n"
   ]
  },
  {
   "cell_type": "markdown",
   "metadata": {},
   "source": [
    "# Index of max value(argmax/argmin)"
   ]
  },
  {
   "cell_type": "code",
   "execution_count": 11,
   "metadata": {},
   "outputs": [
    {
     "name": "stdout",
     "output_type": "stream",
     "text": [
      "Max values array1 : 8\n",
      "Min value of array1: 8\n",
      "\n",
      "Max values array2 : 0\n",
      "Min value of array2: 0\n"
     ]
    }
   ],
   "source": [
    "matrix1=np.argmax(array1)\n",
    "matrix2=np.argmin(array2)                 # max values\n",
    "print(f\"Max values array1 : {matrix1}\\nMin value of array1: {matrix1}\") # min values\n",
    "print()\n",
    "print(f\"Max values array2 : {matrix2}\\nMin value of array2: {matrix2}\") \n"
   ]
  },
  {
   "cell_type": "markdown",
   "metadata": {},
   "source": [
    "# Using Axis\n",
    " x-axis(rows - vstack) = 1\n",
    " \n",
    " y-axis(coloumns - hstack) = 0"
   ]
  },
  {
   "cell_type": "code",
   "execution_count": 12,
   "metadata": {},
   "outputs": [
    {
     "name": "stdout",
     "output_type": "stream",
     "text": [
      "[[1 6 7 4]\n",
      " [5 6 8 4]]\n",
      "\n",
      "Min values in rows: [1 4]\n",
      "\n",
      "Max values in coloumns: [7 8]\n"
     ]
    }
   ],
   "source": [
    "arra1=np.array([[1,6,7,4],[5,6,8,4]])\n",
    "print(arra1)\n",
    "\n",
    "\n",
    "print()\n",
    "\n",
    "# min & max  value at coloumns\n",
    "min_ax=arra1.min(axis=1)\n",
    "print(\"Min values in rows:\" , min_ax)\n",
    "\n",
    "print()\n",
    "\n",
    "max_ax=arra1.max(axis=1)\n",
    "print(\"Max values in coloumns:\" , max_ax)"
   ]
  },
  {
   "cell_type": "markdown",
   "metadata": {},
   "source": [
    "# Adding values...by rows and coloumns(min and max)"
   ]
  },
  {
   "cell_type": "code",
   "execution_count": 13,
   "metadata": {},
   "outputs": [
    {
     "name": "stdout",
     "output_type": "stream",
     "text": [
      "[[1 6 7 4]\n",
      " [5 6 8 4]]\n",
      "41\n"
     ]
    }
   ],
   "source": [
    "arra1=np.array([[1,6,7,4],[5,6,8,4]])\n",
    "print(arra1)\n",
    "\n",
    "\n",
    "add_min=np.sum(arra1)\n",
    "print(add_min)"
   ]
  },
  {
   "cell_type": "code",
   "execution_count": 14,
   "metadata": {},
   "outputs": [
    {
     "name": "stdout",
     "output_type": "stream",
     "text": [
      "[ 6 12 15  8]\n"
     ]
    }
   ],
   "source": [
    "add_with_axis=np.sum(arra1,axis=0)\n",
    "print(add_with_axis)  # answer coloums wise\n"
   ]
  },
  {
   "cell_type": "code",
   "execution_count": 15,
   "metadata": {},
   "outputs": [
    {
     "name": "stdout",
     "output_type": "stream",
     "text": [
      "[18 23]\n"
     ]
    }
   ],
   "source": [
    "add_with_axis=np.sum(arra1,axis=1) # anwer rows\n",
    "print(add_with_axis)\n"
   ]
  },
  {
   "cell_type": "code",
   "execution_count": 16,
   "metadata": {},
   "outputs": [
    {
     "data": {
      "text/plain": [
       "20.5"
      ]
     },
     "execution_count": 16,
     "metadata": {},
     "output_type": "execute_result"
    }
   ],
   "source": [
    "add_with_axis.mean()"
   ]
  },
  {
   "cell_type": "code",
   "execution_count": 4,
   "metadata": {},
   "outputs": [],
   "source": [
    "import numpy as np\n",
    "a=np.array([3,4,5,6,6])\n",
    "b=np.array([4,5,5,6,7])\n"
   ]
  },
  {
   "cell_type": "code",
   "execution_count": 7,
   "metadata": {},
   "outputs": [
    {
     "name": "stdout",
     "output_type": "stream",
     "text": [
      "[ 9 16 25 36 36]\n"
     ]
    }
   ],
   "source": [
    "square=np.square(a)\n",
    "print(square)"
   ]
  },
  {
   "cell_type": "code",
   "execution_count": 30,
   "metadata": {},
   "outputs": [
    {
     "name": "stdout",
     "output_type": "stream",
     "text": [
      "[2.         2.23606798 2.23606798 2.44948974 2.64575131]\n"
     ]
    }
   ],
   "source": [
    "square_root=np.sqrt(b)\n",
    "print(square_root)"
   ]
  },
  {
   "cell_type": "code",
   "execution_count": 12,
   "metadata": {},
   "outputs": [
    {
     "name": "stdout",
     "output_type": "stream",
     "text": [
      "[1.09861229 1.38629436 1.60943791 1.79175947 1.79175947]\n"
     ]
    }
   ],
   "source": [
    "log=np.log(a)\n",
    "print(log)"
   ]
  },
  {
   "cell_type": "code",
   "execution_count": 14,
   "metadata": {},
   "outputs": [
    {
     "name": "stdout",
     "output_type": "stream",
     "text": [
      "[0.60205999 0.69897    0.69897    0.77815125 0.84509804]\n"
     ]
    }
   ],
   "source": [
    "log10=np.log10(b)\n",
    "print(log10)"
   ]
  },
  {
   "cell_type": "code",
   "execution_count": 29,
   "metadata": {},
   "outputs": [
    {
     "name": "stdout",
     "output_type": "stream",
     "text": [
      "Sin :  [ 0.14112001 -0.7568025  -0.95892427 -0.2794155  -0.2794155 ]\n",
      "COs :  [-0.65364362  0.28366219  0.28366219  0.96017029  0.75390225]\n",
      "Tan :  [-0.14254654  1.15782128 -3.38051501 -0.29100619 -0.29100619]\n"
     ]
    }
   ],
   "source": [
    "sin=np.sin(a)\n",
    "cos=np.cos(b)\n",
    "tan=np.tan(a)\n",
    "print(\"Sin : \" ,sin)\n",
    "print(\"COs : \" ,cos)\n",
    "print(\"Tan : \" ,tan)"
   ]
  },
  {
   "cell_type": "code",
   "execution_count": null,
   "metadata": {},
   "outputs": [],
   "source": [
    "# Numpy calcultor"
   ]
  },
  {
   "cell_type": "code",
   "execution_count": null,
   "metadata": {},
   "outputs": [],
   "source": []
  },
  {
   "cell_type": "markdown",
   "metadata": {},
   "source": [
    "##### "
   ]
  }
 ],
 "metadata": {
  "kernelspec": {
   "display_name": "Python 3",
   "language": "python",
   "name": "python3"
  },
  "language_info": {
   "codemirror_mode": {
    "name": "ipython",
    "version": 3
   },
   "file_extension": ".py",
   "mimetype": "text/x-python",
   "name": "python",
   "nbconvert_exporter": "python",
   "pygments_lexer": "ipython3",
   "version": "3.7.3"
  }
 },
 "nbformat": 4,
 "nbformat_minor": 2
}
