{
 "cells": [
  {
   "cell_type": "code",
   "execution_count": 1,
   "metadata": {},
   "outputs": [],
   "source": [
    "import numpy as np\n",
    "import random"
   ]
  },
  {
   "cell_type": "markdown",
   "metadata": {},
   "source": [
    "# Randn\n",
    "its give positive as well as negative values"
   ]
  },
  {
   "cell_type": "code",
   "execution_count": 7,
   "metadata": {},
   "outputs": [
    {
     "name": "stdout",
     "output_type": "stream",
     "text": [
      "[[-0.54876224  0.32978292 -0.59768687]\n",
      " [-2.87151683  0.46380709  0.19081372]\n",
      " [ 2.21959483  0.93513546 -0.52896748]]\n"
     ]
    }
   ],
   "source": [
    "randn=np.random.randn(3,3)\n",
    "print(randn)"
   ]
  },
  {
   "cell_type": "markdown",
   "metadata": {},
   "source": [
    "# Rand\n",
    "all will be positive"
   ]
  },
  {
   "cell_type": "code",
   "execution_count": 8,
   "metadata": {},
   "outputs": [
    {
     "name": "stdout",
     "output_type": "stream",
     "text": [
      "[[0.08312271 0.72548525 0.51976933]\n",
      " [0.84700211 0.29402109 0.06163807]\n",
      " [0.10971538 0.89487588 0.56583218]]\n"
     ]
    }
   ],
   "source": [
    "randn=np.random.rand(3,3)\n",
    "print(randn)"
   ]
  },
  {
   "cell_type": "markdown",
   "metadata": {},
   "source": [
    "# Randint\n",
    "its give value low to approx"
   ]
  },
  {
   "cell_type": "code",
   "execution_count": 14,
   "metadata": {},
   "outputs": [
    {
     "name": "stdout",
     "output_type": "stream",
     "text": [
      "[6 4 9 3 7 5 2 7 3 6]\n"
     ]
    }
   ],
   "source": [
    "randint=np.random.randint(10, size=10)\n",
    "print(randint)"
   ]
  },
  {
   "cell_type": "code",
   "execution_count": 20,
   "metadata": {},
   "outputs": [
    {
     "name": "stdout",
     "output_type": "stream",
     "text": [
      "[68 18 92 61 73 46 49 70 11 43 18  8 24 80 55 22 95 78 90  5 10 59 37 39\n",
      " 82 32  1 99 28 16 65 61 65 19 76 51 24 50 24 19  3 70 22 42 15 49 54 27\n",
      " 66 41 63  3 59 53 84 54 68 13 69 26 74 37 22 72 58 91 84  6 84 65 19 41\n",
      " 46 61 44 83 23 17 79 26 49 57  5 66 27  7  2 47 28 77 29 23 47  4 91 37\n",
      " 47 25 97 84]\n"
     ]
    }
   ],
   "source": [
    "randint=np.random.randint(100, size=100)\n",
    "print(randint)"
   ]
  },
  {
   "cell_type": "code",
   "execution_count": null,
   "metadata": {},
   "outputs": [],
   "source": [
    "seed=np.random"
   ]
  },
  {
   "cell_type": "code",
   "execution_count": null,
   "metadata": {},
   "outputs": [],
   "source": [
    "https://docs.scipy.org/doc/numpy-1.14.1/reference/routines.random.html\n",
    "#     its randome sampling"
   ]
  }
 ],
 "metadata": {
  "kernelspec": {
   "display_name": "Python 3",
   "language": "python",
   "name": "python3"
  },
  "language_info": {
   "codemirror_mode": {
    "name": "ipython",
    "version": 3
   },
   "file_extension": ".py",
   "mimetype": "text/x-python",
   "name": "python",
   "nbconvert_exporter": "python",
   "pygments_lexer": "ipython3",
   "version": "3.7.3"
  }
 },
 "nbformat": 4,
 "nbformat_minor": 2
}
