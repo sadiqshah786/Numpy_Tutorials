{
 "cells": [
  {
   "cell_type": "markdown",
   "metadata": {},
   "source": [
    "# Concatenate \n",
    "it is use to join one or more than array\n",
    "\n",
    "syntax:\n",
    "\n",
    "np.concatenate( (shape1,shape2) )   alwys pass tuples"
   ]
  },
  {
   "cell_type": "code",
   "execution_count": 2,
   "metadata": {},
   "outputs": [],
   "source": [
    "import numpy as np"
   ]
  },
  {
   "cell_type": "code",
   "execution_count": 4,
   "metadata": {},
   "outputs": [
    {
     "name": "stdout",
     "output_type": "stream",
     "text": [
      "[[ 1  2  3  4]\n",
      " [ 5  6  7  8]\n",
      " [ 9 10 11 12]\n",
      " [13 14 15 16]]\n",
      "\n",
      "[[17 18 19 20]\n",
      " [21 22 23 24]\n",
      " [25 26 27 28]\n",
      " [29 30 31 32]]\n"
     ]
    }
   ],
   "source": [
    "shape1=np.arange(1,17).reshape(4,4)\n",
    "print(shape1)\n",
    "print()\n",
    "shape2=np.arange(17,33).reshape(4,4)\n",
    "print(shape2)\n",
    "\n"
   ]
  },
  {
   "cell_type": "code",
   "execution_count": 25,
   "metadata": {},
   "outputs": [
    {
     "name": "stdout",
     "output_type": "stream",
     "text": [
      "[[ 1  2  3  4]\n",
      " [ 5  6  7  8]\n",
      " [ 9 10 11 12]\n",
      " [13 14 15 16]\n",
      " [17 18 19 20]\n",
      " [21 22 23 24]\n",
      " [25 26 27 28]\n",
      " [29 30 31 32]]\n",
      "2\n"
     ]
    }
   ],
   "source": [
    "con=np.concatenate((shape1,shape2))\n",
    "print(con)\n",
    "print(con.ndim)"
   ]
  },
  {
   "cell_type": "code",
   "execution_count": 24,
   "metadata": {},
   "outputs": [
    {
     "name": "stdout",
     "output_type": "stream",
     "text": [
      "[[18 20 22 24]\n",
      " [26 28 30 32]\n",
      " [34 36 38 40]\n",
      " [42 44 46 48]]\n"
     ]
    }
   ],
   "source": [
    "arr=shape1 + shape2\n",
    "print(arr)   # it will be add  not be concatenate"
   ]
  },
  {
   "cell_type": "code",
   "execution_count": 13,
   "metadata": {},
   "outputs": [
    {
     "name": "stdout",
     "output_type": "stream",
     "text": [
      "[[17 18 19 20]\n",
      " [21 22 23 24]\n",
      " [25 26 27 28]\n",
      " [29 30 31 32]]\n"
     ]
    }
   ],
   "source": [
    "shape2=np.arange(17,33).reshape(4,4)\n",
    "print(shape2)"
   ]
  },
  {
   "cell_type": "code",
   "execution_count": 16,
   "metadata": {},
   "outputs": [
    {
     "name": "stdout",
     "output_type": "stream",
     "text": [
      "[3, 4, 56, 6, 5, 7, 78, 7]\n"
     ]
    }
   ],
   "source": [
    "list1=[3,4,56,6]\n",
    "list2=[5,7,78,7]\n",
    "equal=list1 + list2    # list can be concatenate but matrix can not...\n",
    "print(equal)"
   ]
  },
  {
   "cell_type": "markdown",
   "metadata": {},
   "source": [
    "# Rows and coloumns wise concatenate\n",
    "by default row = 1\n",
    "\n",
    "           coloumns = 0"
   ]
  },
  {
   "cell_type": "code",
   "execution_count": 9,
   "metadata": {},
   "outputs": [
    {
     "name": "stdout",
     "output_type": "stream",
     "text": [
      "[[ 1  2  3  4  5 11 12 13 14 15]\n",
      " [ 6  7  8  9 10 16 17 18 19 20]]\n",
      "\n",
      "[[ 1  2  3  4  5]\n",
      " [ 6  7  8  9 10]\n",
      " [11 12 13 14 15]\n",
      " [16 17 18 19 20]]\n"
     ]
    }
   ],
   "source": [
    "\n",
    "arr1=np.arange(1,11).reshape(2,5)\n",
    "arr2=np.arange(11,21).reshape(2,5)\n",
    "\n",
    "\n",
    "# horizontal means coloums wise....\n",
    "arr=np.concatenate((arr1,arr2),axis=1)\n",
    "print(arr)\n",
    "\n",
    "\n",
    "\n",
    "print()\n",
    "\n",
    "\n",
    "#vertical means rows wise\n",
    "arr=np.concatenate((arr1,arr2),axis=0)\n",
    "print(arr)\n",
    "\n",
    "\n",
    "\n"
   ]
  },
  {
   "cell_type": "markdown",
   "metadata": {},
   "source": [
    "# by hstack nd vstack"
   ]
  },
  {
   "cell_type": "markdown",
   "metadata": {},
   "source": [
    "hstack=horizontal wise(axis=1)\n",
    "\n",
    "vstack=vertical wise  (axis=0)"
   ]
  },
  {
   "cell_type": "code",
   "execution_count": 68,
   "metadata": {},
   "outputs": [
    {
     "name": "stdout",
     "output_type": "stream",
     "text": [
      "[[11 12 13 14 15 11 12 13 14 15]\n",
      " [16 17 18 19 20 16 17 18 19 20]]\n"
     ]
    }
   ],
   "source": [
    "arr_hs=np.hstack((arr1,arr2))\n",
    "print(arr_hs)\n"
   ]
  },
  {
   "cell_type": "code",
   "execution_count": 69,
   "metadata": {},
   "outputs": [
    {
     "name": "stdout",
     "output_type": "stream",
     "text": [
      "[[11 12 13 14 15]\n",
      " [16 17 18 19 20]\n",
      " [11 12 13 14 15]\n",
      " [16 17 18 19 20]]\n"
     ]
    }
   ],
   "source": [
    "arr_vs=np.vstack((arr1,arr2))\n",
    "print(arr_vs)\n"
   ]
  },
  {
   "cell_type": "markdown",
   "metadata": {},
   "source": [
    "# Split Fuction\n",
    "Its is use to split array\n",
    "\n",
    "split functions retruns list"
   ]
  },
  {
   "cell_type": "code",
   "execution_count": 75,
   "metadata": {},
   "outputs": [
    {
     "data": {
      "text/plain": [
       "array([[ 1,  2,  3,  4,  5],\n",
       "       [ 6,  7,  8,  9, 10]])"
      ]
     },
     "execution_count": 75,
     "metadata": {},
     "output_type": "execute_result"
    }
   ],
   "source": [
    "arr1=np.arange(1,11).reshape(2,5)\n",
    "arr1"
   ]
  },
  {
   "cell_type": "code",
   "execution_count": 84,
   "metadata": {},
   "outputs": [
    {
     "name": "stdout",
     "output_type": "stream",
     "text": [
      "[array([[1, 2, 3, 4, 5]]), array([[ 6,  7,  8,  9, 10]])]\n",
      "<class 'list'>\n"
     ]
    }
   ],
   "source": [
    "split_array=np.split(arr1,2)\n",
    "print(split_array)\n",
    "print(type(split_array))"
   ]
  },
  {
   "cell_type": "code",
   "execution_count": 90,
   "metadata": {},
   "outputs": [
    {
     "data": {
      "text/plain": [
       "array([[1, 2, 3, 4, 5]])"
      ]
     },
     "execution_count": 90,
     "metadata": {},
     "output_type": "execute_result"
    }
   ],
   "source": [
    "split_array[0]\n",
    "# type(split_array)"
   ]
  },
  {
   "cell_type": "code",
   "execution_count": 91,
   "metadata": {},
   "outputs": [
    {
     "data": {
      "text/plain": [
       "[array([[1, 2, 3, 4, 5]]), array([[ 6,  7,  8,  9, 10]])]"
      ]
     },
     "execution_count": 91,
     "metadata": {},
     "output_type": "execute_result"
    }
   ],
   "source": [
    "split_array[0:]\n",
    "# type(split_array)"
   ]
  },
  {
   "cell_type": "code",
   "execution_count": 92,
   "metadata": {},
   "outputs": [
    {
     "data": {
      "text/plain": [
       "array([[ 6,  7,  8,  9, 10]])"
      ]
     },
     "execution_count": 92,
     "metadata": {},
     "output_type": "execute_result"
    }
   ],
   "source": [
    "split_array[1]"
   ]
  },
  {
   "cell_type": "code",
   "execution_count": 119,
   "metadata": {},
   "outputs": [
    {
     "name": "stdout",
     "output_type": "stream",
     "text": [
      "first array :\n",
      " [[ 1  2  3  4  5  6  7  8  9 10]\n",
      " [11 12 13 14 15 16 17 18 19 20]]\n",
      "\n",
      "secound array :\n",
      " [[ 1  2  3  4  5]\n",
      " [ 6  7  8  9 10]]\n",
      "\n",
      "\n",
      "Concatenate array 1 and array 2 : \n",
      "\n",
      "[[ 1  2  3  4  5  6  7  8  9 10  1  2  3  4  5]\n",
      " [11 12 13 14 15 16 17 18 19 20  6  7  8  9 10]]\n",
      "\n",
      "\n",
      "split array into 2 peices\n",
      "[[ 1  2  3  4  5  6  7  8  9 10  1  2  3  4  5]]\n",
      "[[11 12 13 14 15 16 17 18 19 20  6  7  8  9 10]]\n"
     ]
    }
   ],
   "source": [
    "# Example of concatenate and split......Row wise......\n",
    "a1=np.arange(1,21).reshape(2,10)\n",
    "a2=np.arange(1,11).reshape(2,5)\n",
    "\n",
    "print(\"first array :\\n\"  ,a1)\n",
    "print()\n",
    "print( \"secound array :\\n\" , a2)\n",
    "\n",
    "print(\"\\n\")\n",
    "print(\"Concatenate array 1 and array 2 : \\n\")\n",
    "a=np.concatenate((a1,a2),axis=1)\n",
    "print(a)\n",
    "\n",
    "print(\"\\n\")\n",
    "print(\"split array into 2 peices\")\n",
    "\n",
    "s=np.split(a,2)\n",
    "for i in s :\n",
    "    print(i)\n"
   ]
  },
  {
   "cell_type": "code",
   "execution_count": 11,
   "metadata": {},
   "outputs": [
    {
     "name": "stdout",
     "output_type": "stream",
     "text": [
      "first array :\n",
      " [[ 1  2]\n",
      " [ 3  4]\n",
      " [ 5  6]\n",
      " [ 7  8]\n",
      " [ 9 10]\n",
      " [11 12]\n",
      " [13 14]\n",
      " [15 16]\n",
      " [17 18]\n",
      " [19 20]]\n",
      "\n",
      "secound array :\n",
      " [[ 1  2]\n",
      " [ 3  4]\n",
      " [ 5  6]\n",
      " [ 7  8]\n",
      " [ 9 10]]\n",
      "\n",
      "\n",
      "Concatenate array 1 and array 2 : \n",
      "\n",
      "[[ 1  2]\n",
      " [ 3  4]\n",
      " [ 5  6]\n",
      " [ 7  8]\n",
      " [ 9 10]\n",
      " [11 12]\n",
      " [13 14]\n",
      " [15 16]\n",
      " [17 18]\n",
      " [19 20]\n",
      " [ 1  2]\n",
      " [ 3  4]\n",
      " [ 5  6]\n",
      " [ 7  8]\n",
      " [ 9 10]]\n",
      "\n",
      "\n",
      "split array into 3 peices\n"
     ]
    },
    {
     "data": {
      "text/plain": [
       "[array([[ 1,  2],\n",
       "        [ 3,  4],\n",
       "        [ 5,  6],\n",
       "        [ 7,  8],\n",
       "        [ 9, 10]]), array([[11, 12],\n",
       "        [13, 14],\n",
       "        [15, 16],\n",
       "        [17, 18],\n",
       "        [19, 20]]), array([[ 1,  2],\n",
       "        [ 3,  4],\n",
       "        [ 5,  6],\n",
       "        [ 7,  8],\n",
       "        [ 9, 10]])]"
      ]
     },
     "execution_count": 11,
     "metadata": {},
     "output_type": "execute_result"
    }
   ],
   "source": [
    "# Example of concatenate and split......coloumns wise......\n",
    "a1=np.arange(1,21).reshape(10,2)\n",
    "a2=np.arange(1,11).reshape(5,2)\n",
    "\n",
    "print(\"first array :\\n\"  ,a1)\n",
    "print()\n",
    "print( \"secound array :\\n\" , a2)\n",
    "\n",
    "print(\"\\n\")\n",
    "print(\"Concatenate array 1 and array 2 : \\n\")\n",
    "a=np.concatenate((a1,a2),axis=0)\n",
    "print(a)\n",
    "\n",
    "print(\"\\n\")\n",
    "print(\"split array into 3 peices\")\n",
    "\n",
    "s=np.split(a,3)\n",
    "# for i in s :\n",
    "#     print(i,\"\\n\")\n",
    "s\n"
   ]
  },
  {
   "cell_type": "markdown",
   "metadata": {},
   "source": [
    "# Split with 1D array"
   ]
  },
  {
   "cell_type": "code",
   "execution_count": 135,
   "metadata": {},
   "outputs": [
    {
     "name": "stdout",
     "output_type": "stream",
     "text": [
      "[array([3]), array([5, 6]), array([7])]\n"
     ]
    }
   ],
   "source": [
    "arra1=np.array([3,5,6,7])\n",
    "sp=np.split(arra1, [1,3])\n",
    "print(sp)"
   ]
  },
  {
   "cell_type": "code",
   "execution_count": 140,
   "metadata": {},
   "outputs": [
    {
     "name": "stdout",
     "output_type": "stream",
     "text": [
      "[array([ 4, 78, 56]), array([4, 5, 6, 8, 8]), array([7, 6, 5]), array([ 2, 67,  8, 65,  4])]\n"
     ]
    }
   ],
   "source": [
    "arr1=np.array([4,78,56,4,5,6,8,8,7,6,5,2,67,8,65,4])\n",
    "split=np.split(arr1,[3,8,11])  # index of an elements\n",
    "print(split)"
   ]
  },
  {
   "cell_type": "code",
   "execution_count": null,
   "metadata": {},
   "outputs": [],
   "source": []
  }
 ],
 "metadata": {
  "kernelspec": {
   "display_name": "Python 3",
   "language": "python",
   "name": "python3"
  },
  "language_info": {
   "codemirror_mode": {
    "name": "ipython",
    "version": 3
   },
   "file_extension": ".py",
   "mimetype": "text/x-python",
   "name": "python",
   "nbconvert_exporter": "python",
   "pygments_lexer": "ipython3",
   "version": "3.7.3"
  }
 },
 "nbformat": 4,
 "nbformat_minor": 2
}
