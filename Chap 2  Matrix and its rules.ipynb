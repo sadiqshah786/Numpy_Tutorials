{
 "cells": [
  {
   "cell_type": "markdown",
   "metadata": {},
   "source": [
    "# Matrix"
   ]
  },
  {
   "cell_type": "code",
   "execution_count": 3,
   "metadata": {},
   "outputs": [
    {
     "name": "stdout",
     "output_type": "stream",
     "text": [
      "[2 5 6]\n",
      "(3,)\n",
      "3\n",
      "int32\n",
      "1\n"
     ]
    }
   ],
   "source": [
    "import numpy as np\n",
    "name=np.array([2,5,6])\n",
    "print(name)\n",
    "print(name.shape)  # check the shape of array (how many rows and coloumn-->(n,n) first n is rows and second n is coloumns)\n",
    "print(name.size)   #Check the size of array(how many  elements contains in array)\n",
    "print(name.dtype)  #check the data type of the array\n",
    "print(name.ndim)  # check the dimension of the array (1D or 2D)\n"
   ]
  },
  {
   "cell_type": "markdown",
   "metadata": {},
   "source": [
    "# Ones Zeros"
   ]
  },
  {
   "cell_type": "code",
   "execution_count": 4,
   "metadata": {},
   "outputs": [
    {
     "name": "stdout",
     "output_type": "stream",
     "text": [
      "[[1. 1. 1. 1.]\n",
      " [1. 1. 1. 1.]\n",
      " [1. 1. 1. 1.]\n",
      " [1. 1. 1. 1.]]\n",
      "2\n",
      "(4, 4)\n"
     ]
    }
   ],
   "source": [
    "import numpy as np\n",
    "ones=np.ones((4,4))\n",
    "print(ones)\n",
    "print(ones.ndim)\n",
    "print(ones.shape)"
   ]
  },
  {
   "cell_type": "code",
   "execution_count": 5,
   "metadata": {},
   "outputs": [
    {
     "name": "stdout",
     "output_type": "stream",
     "text": [
      "[[0. 0. 0. 0.]\n",
      " [0. 0. 0. 0.]\n",
      " [0. 0. 0. 0.]\n",
      " [0. 0. 0. 0.]]\n"
     ]
    }
   ],
   "source": [
    "zeros=np.zeros((4,4))\n",
    "ones=np.ones((4,4))\n",
    "print(ones*zeros)"
   ]
  },
  {
   "cell_type": "code",
   "execution_count": 6,
   "metadata": {},
   "outputs": [
    {
     "name": "stdout",
     "output_type": "stream",
     "text": [
      "multiply of two matrix\n",
      "Two Matrix multiplied : \n",
      "[[  4  12  16]\n",
      " [180  36  49]]\n",
      "\n",
      "\n",
      "Addition of two matrix\n",
      "Two Matrix Added : \n",
      "[[ 4  7  8]\n",
      " [49 12 14]]\n",
      "\n",
      "\n",
      "Subtraction of two matrix\n",
      "Two Matrix Subtracted : \n",
      "[[ 0 -1  0]\n",
      " [41  0  0]]\n",
      "\n",
      "\n",
      "Division of two matrix\n",
      "Two Matrix Divided : \n",
      "[[ 1.    0.75  1.  ]\n",
      " [11.25  1.    1.  ]]\n"
     ]
    }
   ],
   "source": [
    "print(\"multiply of two matrix\")\n",
    "a=np.array([[2,3,4],[45,6,7]])\n",
    "b=np.array([[2,4,4],[4,6,7]])\n",
    "print(f\"Two Matrix multiplied : \\n{a*b}\")\n",
    "\n",
    "print('\\n')\n",
    "print(\"Addition of two matrix\")\n",
    "a=np.array([[2,3,4],[45,6,7]])\n",
    "b=np.array([[2,4,4],[4,6,7]])\n",
    "print(f\"Two Matrix Added : \\n{a + b}\")\n",
    "\n",
    "\n",
    "print('\\n')\n",
    "print(\"Subtraction of two matrix\")\n",
    "a=np.array([[2,3,4],[45,6,7]])\n",
    "b=np.array([[2,4,4],[4,6,7]])\n",
    "print(f\"Two Matrix Subtracted : \\n{a - b}\")\n",
    "\n",
    "\n",
    "print('\\n')\n",
    "print(\"Division of two matrix\")\n",
    "a=np.array([[2,3,4],[45,6,7]])\n",
    "b=np.array([[2,4,4],[4,6,7]])\n",
    "print(f\"Two Matrix Divided : \\n{a / b}\")\n"
   ]
  },
  {
   "cell_type": "code",
   "execution_count": 7,
   "metadata": {},
   "outputs": [
    {
     "name": "stdout",
     "output_type": "stream",
     "text": [
      "[[1. 1. 1. 1. 1. 1. 1. 1. 1.]\n",
      " [1. 1. 1. 1. 1. 1. 1. 1. 1.]\n",
      " [1. 1. 1. 1. 1. 1. 1. 1. 1.]\n",
      " [1. 1. 1. 1. 1. 1. 1. 1. 1.]]\n"
     ]
    }
   ],
   "source": [
    "a=np.ones((4,9))\n",
    "print(a)"
   ]
  },
  {
   "cell_type": "markdown",
   "metadata": {},
   "source": [
    "# Range differnce"
   ]
  },
  {
   "cell_type": "code",
   "execution_count": 8,
   "metadata": {},
   "outputs": [
    {
     "name": "stdout",
     "output_type": "stream",
     "text": [
      "[1 3 5 7 9]\n",
      "[10  8  6  4  2]\n"
     ]
    }
   ],
   "source": [
    "a=np.arange(1,10,2)\n",
    "print(a)\n",
    "a=np.arange(10,1,-2)\n",
    "print(a)"
   ]
  },
  {
   "cell_type": "markdown",
   "metadata": {},
   "source": [
    "# Empty"
   ]
  },
  {
   "cell_type": "code",
   "execution_count": 9,
   "metadata": {},
   "outputs": [
    {
     "name": "stdout",
     "output_type": "stream",
     "text": [
      "[[5.11798224e-307 3.44897992e-307 1.69118108e-306 9.34609790e-307]\n",
      " [6.23037657e-307 9.34596889e-307 8.90060780e-307 3.49699467e-317]]\n"
     ]
    }
   ],
   "source": [
    "a=np.empty((2,4))\n",
    "print(a)"
   ]
  },
  {
   "cell_type": "markdown",
   "metadata": {},
   "source": [
    "# cONDITION"
   ]
  },
  {
   "cell_type": "code",
   "execution_count": 10,
   "metadata": {},
   "outputs": [
    {
     "name": "stdout",
     "output_type": "stream",
     "text": [
      "[[5. 5.]\n",
      " [5. 5.]]\n",
      "[[ True  True]\n",
      " [ True  True]]\n"
     ]
    },
    {
     "data": {
      "text/plain": [
       "array([5., 5., 5., 5.])"
      ]
     },
     "execution_count": 10,
     "metadata": {},
     "output_type": "execute_result"
    }
   ],
   "source": [
    "A=np.ones((2,2))*5\n",
    "print(A)\n",
    "print(A>0)\n",
    "A[A>0]\n",
    "  "
   ]
  },
  {
   "cell_type": "code",
   "execution_count": 11,
   "metadata": {},
   "outputs": [
    {
     "name": "stdout",
     "output_type": "stream",
     "text": [
      "[1. 1. 1. 1. 1. 1. 1. 1. 1. 1. 1. 1. 1. 1. 1. 1. 1. 1. 1. 1. 1. 1. 1. 1.\n",
      " 1. 1. 1. 1. 1. 1. 1. 1. 1. 1. 1. 1.]\n",
      "[0. 0. 0. 0. 0. 0. 0. 0. 0. 0. 0. 0. 0. 0. 0. 0. 0. 0. 0. 0. 0. 0. 0. 0.\n",
      " 0. 0. 0. 0. 0. 0. 0. 0. 0. 0. 0. 0.]\n",
      "[1. 1. 1. 1. 1. 1. 1. 1. 1. 1. 1. 1. 1. 1. 1. 1. 1. 1. 1. 1. 1. 1. 1. 1.\n",
      " 1. 1. 1. 1. 1. 1. 1. 1. 1. 1. 1. 1.]\n",
      "[0. 0. 0. 0. 0. 0. 0. 0. 0. 0. 0. 0. 0. 0. 0. 0. 0. 0. 0. 0. 0. 0. 0. 0.\n",
      " 0. 0. 0. 0. 0. 0. 0. 0. 0. 0. 0. 0.]\n",
      "[1. 1. 1. 1. 1. 1. 1. 1. 1. 1. 1. 1. 1. 1. 1. 1. 1. 1. 1. 1. 1. 1. 1. 1.\n",
      " 1. 1. 1. 1. 1. 1. 1. 1. 1. 1. 1. 1.]\n"
     ]
    }
   ],
   "source": [
    "A=np.ones((9,4))*1\n",
    "b=np.ones((9,4))*0\n",
    "c=np.ones((9,4))*1\n",
    "d=np.ones((9,4))*0\n",
    "e=np.ones((9,4))*1\n",
    "print(A[A>0])\n",
    "print(b[A>0])\n",
    "print(c[A>0])\n",
    "print(d[A>0])\n",
    "print(e[A>0])\n"
   ]
  },
  {
   "cell_type": "code",
   "execution_count": 12,
   "metadata": {},
   "outputs": [
    {
     "name": "stdout",
     "output_type": "stream",
     "text": [
      "- ali\n",
      "- kashif\n",
      "- khaid\n"
     ]
    }
   ],
   "source": [
    "NAMES=np.array(['ali','sadiq','kashif','khaid'])\n",
    "FEES=np.array(['Submitted','Not-Submitted','Submitted',\"Submitted\"])\n",
    "for i in NAMES[FEES==\"Submitted\"] :\n",
    "    print(\"-\",i)\n"
   ]
  },
  {
   "cell_type": "code",
   "execution_count": 13,
   "metadata": {},
   "outputs": [
    {
     "data": {
      "text/plain": [
       "array(['sadiq'], dtype='<U6')"
      ]
     },
     "execution_count": 13,
     "metadata": {},
     "output_type": "execute_result"
    }
   ],
   "source": [
    "NAMES[0:3]\n",
    "NAMES[1:-2]"
   ]
  },
  {
   "cell_type": "code",
   "execution_count": 14,
   "metadata": {},
   "outputs": [
    {
     "name": "stdout",
     "output_type": "stream",
     "text": [
      "[[1. 1. 1. 1. 1. 1. 1. 1. 1. 1.]\n",
      " [0. 0. 0. 0. 0. 0. 0. 0. 0. 0.]\n",
      " [1. 1. 1. 1. 1. 1. 1. 1. 1. 1.]\n",
      " [0. 0. 0. 0. 0. 0. 0. 0. 0. 0.]\n",
      " [1. 1. 1. 1. 1. 1. 1. 1. 1. 1.]\n",
      " [0. 0. 0. 0. 0. 0. 0. 0. 0. 0.]\n",
      " [1. 1. 1. 1. 1. 1. 1. 1. 1. 1.]\n",
      " [0. 0. 0. 0. 0. 0. 0. 0. 0. 0.]\n",
      " [1. 1. 1. 1. 1. 1. 1. 1. 1. 1.]\n",
      " [0. 0. 0. 0. 0. 0. 0. 0. 0. 0.]]\n"
     ]
    }
   ],
   "source": [
    "A=np.zeros((10,10))\n",
    "A[0::2]=1\n",
    "print(A)\n"
   ]
  },
  {
   "cell_type": "code",
   "execution_count": 15,
   "metadata": {},
   "outputs": [
    {
     "ename": "NameError",
     "evalue": "name 'int16' is not defined",
     "output_type": "error",
     "traceback": [
      "\u001b[1;31m---------------------------------------------------------------------------\u001b[0m",
      "\u001b[1;31mNameError\u001b[0m                                 Traceback (most recent call last)",
      "\u001b[1;32m<ipython-input-15-e1249cac9f72>\u001b[0m in \u001b[0;36m<module>\u001b[1;34m\u001b[0m\n\u001b[1;32m----> 1\u001b[1;33m \u001b[0mB\u001b[0m\u001b[1;33m=\u001b[0m\u001b[0mnp\u001b[0m\u001b[1;33m.\u001b[0m\u001b[0mones\u001b[0m\u001b[1;33m(\u001b[0m\u001b[1;33m(\u001b[0m\u001b[1;36m10\u001b[0m\u001b[1;33m,\u001b[0m\u001b[1;36m10\u001b[0m\u001b[1;33m)\u001b[0m\u001b[1;33m,\u001b[0m\u001b[0mdtype\u001b[0m\u001b[1;33m=\u001b[0m\u001b[0mint16\u001b[0m\u001b[1;33m)\u001b[0m\u001b[1;33m\u001b[0m\u001b[1;33m\u001b[0m\u001b[0m\n\u001b[0m\u001b[0;32m      2\u001b[0m \u001b[0mB\u001b[0m\u001b[1;33m[\u001b[0m\u001b[1;36m1\u001b[0m\u001b[1;33m:\u001b[0m\u001b[1;33m:\u001b[0m\u001b[1;36m2\u001b[0m\u001b[1;33m]\u001b[0m\u001b[1;33m=\u001b[0m\u001b[1;36m0\u001b[0m\u001b[1;33m\u001b[0m\u001b[1;33m\u001b[0m\u001b[0m\n\u001b[0;32m      3\u001b[0m \u001b[0mB\u001b[0m\u001b[1;33m\u001b[0m\u001b[1;33m\u001b[0m\u001b[0m\n",
      "\u001b[1;31mNameError\u001b[0m: name 'int16' is not defined"
     ]
    }
   ],
   "source": [
    "B=np.ones((10,10),dtype=int16)\n",
    "B[1::2]=0\n",
    "B"
   ]
  },
  {
   "cell_type": "code",
   "execution_count": 16,
   "metadata": {},
   "outputs": [
    {
     "name": "stdout",
     "output_type": "stream",
     "text": [
      "[[1. 1. 1. 1. 1.]\n",
      " [1. 1. 1. 1. 1.]]\n",
      "\n",
      "\n",
      "[[0. 0. 0. 0. 0.]\n",
      " [0. 0. 0. 0. 0.]]\n"
     ]
    }
   ],
   "source": [
    "import numpy as np\n",
    "ONES=np.ones((2,5))\n",
    "print(ONES)\n",
    "\n",
    "print(\"\\n\")\n",
    "\n",
    "ONES=np.zeros((2,5))\n",
    "print(ONES)"
   ]
  },
  {
   "cell_type": "markdown",
   "metadata": {},
   "source": [
    "# Random number genrated"
   ]
  },
  {
   "cell_type": "code",
   "execution_count": 37,
   "metadata": {},
   "outputs": [
    {
     "name": "stdout",
     "output_type": "stream",
     "text": [
      "[[-3.28462243  0.34211389  3.07616698 -3.4156517 ]\n",
      " [ 2.54400647  0.24362479  0.84370113  1.54384882]]\n",
      "\n",
      "\n",
      "[  6.30483166 -10.90487555]\n",
      "float64\n",
      "(2,)\n"
     ]
    }
   ],
   "source": [
    "random_num=np.random.randn(2,4)\n",
    "print(random_num*2)\n",
    "\n",
    "print(\"\\n\")\n",
    "random_num=np.random.randn(2)\n",
    "print(random_num*5)\n",
    "print(random_num.dtype)\n",
    "print(random_num.shape)\n"
   ]
  },
  {
   "cell_type": "markdown",
   "metadata": {},
   "source": [
    "# Created ndarray"
   ]
  },
  {
   "cell_type": "markdown",
   "metadata": {},
   "source": [
    "# 1D array"
   ]
  },
  {
   "cell_type": "code",
   "execution_count": 64,
   "metadata": {},
   "outputs": [
    {
     "name": "stdout",
     "output_type": "stream",
     "text": [
      "[1 2 4]\n",
      "\n",
      "\n",
      "['sadiq shah' 'Ali' 'kasim']\n",
      "[12 21 34]\n",
      "['B' 'A' 'C']\n",
      "n-dimension 1\n"
     ]
    }
   ],
   "source": [
    "data1=[1,2,4]\n",
    "arr1=np.array(data1)\n",
    "print(arr1)\n",
    "\n",
    "\n",
    "\n",
    "print(\"\\n\")\n",
    "names_data=['sadiq shah','Ali','kasim']\n",
    "ages_data=[12,21,34]\n",
    "sec_data=['B','A','C']\n",
    "array1=np.array(names_data)\n",
    "array2=np.array(ages_data)\n",
    "array3=np.array(sec_data)\n",
    "print(array1)\n",
    "print(array2)\n",
    "print(array3)\n",
    "type(array1)\n",
    "print(\"n-dimension\",array1.ndim)\n",
    "\n",
    "\n",
    "\n",
    "\n",
    "\n"
   ]
  },
  {
   "cell_type": "markdown",
   "metadata": {},
   "source": [
    "# 2D array"
   ]
  },
  {
   "cell_type": "code",
   "execution_count": 70,
   "metadata": {},
   "outputs": [
    {
     "name": "stdout",
     "output_type": "stream",
     "text": [
      "[list([1, 2, 3, 4]) list([1, 4, 56])]\n"
     ]
    },
    {
     "data": {
      "text/plain": [
       "numpy.ndarray"
      ]
     },
     "execution_count": 70,
     "metadata": {},
     "output_type": "execute_result"
    }
   ],
   "source": [
    "_2D_array=[[1,2,3,4],[1 ,4,56]]\n",
    "arr2D=np.array(_2D_array)\n",
    "print(arr2D)\n",
    "type(arr2D)"
   ]
  },
  {
   "cell_type": "markdown",
   "metadata": {},
   "source": [
    "# Zeros"
   ]
  },
  {
   "cell_type": "code",
   "execution_count": 74,
   "metadata": {},
   "outputs": [
    {
     "name": "stdout",
     "output_type": "stream",
     "text": [
      "[[0. 0.]\n",
      " [0. 0.]]\n"
     ]
    },
    {
     "data": {
      "text/plain": [
       "numpy.ndarray"
      ]
     },
     "execution_count": 74,
     "metadata": {},
     "output_type": "execute_result"
    }
   ],
   "source": [
    "Zeros=np.zeros((2,2))\n",
    "print(Zeros)\n",
    "type(Zeros)"
   ]
  },
  {
   "cell_type": "code",
   "execution_count": 77,
   "metadata": {},
   "outputs": [
    {
     "name": "stdout",
     "output_type": "stream",
     "text": [
      "[[0. 0. 0. 0.]\n",
      " [0. 0. 0. 0.]\n",
      " [0. 0. 0. 0.]\n",
      " [0. 0. 0. 0.]]\n"
     ]
    }
   ],
   "source": [
    "Zeros=np.zeros((4,4))\n",
    "print(Zeros)"
   ]
  },
  {
   "cell_type": "code",
   "execution_count": 86,
   "metadata": {},
   "outputs": [
    {
     "name": "stdout",
     "output_type": "stream",
     "text": [
      "[[1. 1. 1. 1. 1. 1. 1. 1. 1. 1.]\n",
      " [1. 1. 1. 1. 1. 1. 1. 1. 1. 1.]\n",
      " [1. 1. 1. 1. 1. 1. 1. 1. 1. 1.]\n",
      " [1. 1. 1. 1. 1. 1. 1. 1. 1. 1.]\n",
      " [1. 1. 1. 1. 1. 1. 1. 1. 1. 1.]\n",
      " [1. 1. 1. 1. 1. 1. 1. 1. 1. 1.]\n",
      " [1. 1. 1. 1. 1. 1. 1. 1. 1. 1.]\n",
      " [1. 1. 1. 1. 1. 1. 1. 1. 1. 1.]\n",
      " [1. 1. 1. 1. 1. 1. 1. 1. 1. 1.]\n",
      " [1. 1. 1. 1. 1. 1. 1. 1. 1. 1.]]\n"
     ]
    },
    {
     "ename": "TypeError",
     "evalue": "astype() missing required argument 'dtype' (pos 1)",
     "output_type": "error",
     "traceback": [
      "\u001b[1;31m---------------------------------------------------------------------------\u001b[0m",
      "\u001b[1;31mTypeError\u001b[0m                                 Traceback (most recent call last)",
      "\u001b[1;32m<ipython-input-86-01cb8f7a7e34>\u001b[0m in \u001b[0;36m<module>\u001b[1;34m\u001b[0m\n\u001b[0;32m      1\u001b[0m \u001b[0mOnes\u001b[0m\u001b[1;33m=\u001b[0m\u001b[0mnp\u001b[0m\u001b[1;33m.\u001b[0m\u001b[0mones\u001b[0m\u001b[1;33m(\u001b[0m\u001b[1;33m(\u001b[0m\u001b[1;36m10\u001b[0m\u001b[1;33m,\u001b[0m\u001b[1;36m10\u001b[0m\u001b[1;33m)\u001b[0m\u001b[1;33m)\u001b[0m\u001b[1;33m\u001b[0m\u001b[1;33m\u001b[0m\u001b[0m\n\u001b[0;32m      2\u001b[0m \u001b[0mprint\u001b[0m\u001b[1;33m(\u001b[0m\u001b[0mOnes\u001b[0m\u001b[1;33m)\u001b[0m\u001b[1;33m\u001b[0m\u001b[1;33m\u001b[0m\u001b[0m\n\u001b[1;32m----> 3\u001b[1;33m \u001b[0mOnes\u001b[0m\u001b[1;33m.\u001b[0m\u001b[0mastype\u001b[0m\u001b[1;33m(\u001b[0m\u001b[1;33m)\u001b[0m\u001b[1;33m\u001b[0m\u001b[1;33m\u001b[0m\u001b[0m\n\u001b[0m",
      "\u001b[1;31mTypeError\u001b[0m: astype() missing required argument 'dtype' (pos 1)"
     ]
    }
   ],
   "source": [
    "Ones=np.ones((10,10))\n",
    "print(Ones)\n"
   ]
  },
  {
   "cell_type": "markdown",
   "metadata": {},
   "source": [
    "# Convert Data type"
   ]
  },
  {
   "cell_type": "code",
   "execution_count": 95,
   "metadata": {},
   "outputs": [
    {
     "name": "stdout",
     "output_type": "stream",
     "text": [
      "1st Method\n",
      "Convert integer into float\n",
      "[1. 2. 4.]\n",
      "[1. 2. 4.]\n",
      "\n",
      "\n",
      "Convert float into integer\n",
      "[1 2 4]\n",
      "[1 2 4]\n"
     ]
    }
   ],
   "source": [
    "print(\"1st Method\")\n",
    "print(\"Convert integer into float\")\n",
    "arr1=np.array([1,2,4],dtype=\"float32\")\n",
    "arr2=np.array([1,2,4],dtype=np.float32)\n",
    "print(arr1)\n",
    "print(arr2)\n",
    "print(\"\\n\")\n",
    "\n",
    "\n",
    "\n",
    "print(\"Convert float into integer\")\n",
    "arr1=np.array([1,2,4],dtype=\"int32\")\n",
    "arr2=np.array([1,2,4],dtype=np.int32)\n",
    "print(arr1)\n",
    "print(arr2)"
   ]
  },
  {
   "cell_type": "code",
   "execution_count": 108,
   "metadata": {},
   "outputs": [
    {
     "name": "stdout",
     "output_type": "stream",
     "text": [
      "2nd method\n",
      "[1. 2. 3. 4. 5.]\n",
      "[3. 4. 5. 6. 6.]\n",
      "[3 4 5 6 6]\n"
     ]
    }
   ],
   "source": [
    "print(\"2nd method\")\n",
    "arr1=np.array([1,2,3,4,5])\n",
    "arr2= np.array([3,4,5,6,6])\n",
    "a=(arr1.astype(np.float32))\n",
    "print(a)\n",
    "\n",
    "b=arr2.astype(np.float64)\n",
    "print(b)\n",
    "\n",
    "\n",
    "\n",
    "arr2.astype(np.float64)\n",
    "print(arr2)\n"
   ]
  },
  {
   "cell_type": "code",
   "execution_count": 130,
   "metadata": {},
   "outputs": [
    {
     "name": "stdout",
     "output_type": "stream",
     "text": [
      "[  3 676  66]\n"
     ]
    },
    {
     "data": {
      "text/plain": [
       "array([ 1.25, -9.6 , 42.  ])"
      ]
     },
     "execution_count": 130,
     "metadata": {},
     "output_type": "execute_result"
    }
   ],
   "source": [
    "a=np.array([3.5,676.6,66.6])\n",
    "a.astype(np.int32)\n",
    "a=np.array([3.5,676.6,66.6],dtype=\"int32\")\n",
    "print(a)\n",
    "\n",
    "\n",
    "\n",
    "# a.astype(np.String_)\n",
    "numeric_strings = np.array(['1.25', '-9.6', '42'])\n",
    "numeric_strings.astype(float)\n"
   ]
  },
  {
   "cell_type": "code",
   "execution_count": null,
   "metadata": {},
   "outputs": [],
   "source": []
  },
  {
   "cell_type": "code",
   "execution_count": null,
   "metadata": {},
   "outputs": [],
   "source": []
  },
  {
   "cell_type": "markdown",
   "metadata": {},
   "source": [
    "array vs python: array doesnot contains same data but numpy contains same data"
   ]
  },
  {
   "cell_type": "code",
   "execution_count": null,
   "metadata": {},
   "outputs": [],
   "source": []
  },
  {
   "cell_type": "markdown",
   "metadata": {},
   "source": [
    "# Arithematic ndarray"
   ]
  },
  {
   "cell_type": "code",
   "execution_count": 150,
   "metadata": {},
   "outputs": [
    {
     "name": "stdout",
     "output_type": "stream",
     "text": [
      "[[1 3 4 5]\n",
      " [1 3 4 5]]\n",
      "     +\n",
      "[[1 5 7 8]\n",
      " [2 5 7 5]]\n",
      "\n",
      "[[ 2  8 11 13]\n",
      " [ 3  8 11 10]]\n"
     ]
    }
   ],
   "source": [
    "# Addition\n",
    "arr1=np.array([[1,3,4,5],[1,3,4,5]])\n",
    "arr2=np.array([[1,5,7,8],[2,5,7,5]])\n",
    "print(arr1)\n",
    "print(\"     +\")\n",
    "print(arr2)\n",
    "print()\n",
    "arr=arr1+arr2\n",
    "print(arr)"
   ]
  },
  {
   "cell_type": "code",
   "execution_count": 151,
   "metadata": {},
   "outputs": [
    {
     "name": "stdout",
     "output_type": "stream",
     "text": [
      "[[1 3 4 5]\n",
      " [1 3 4 5]]\n",
      "     -\n",
      "[[1 5 7 8]\n",
      " [2 5 7 5]]\n",
      "\n",
      "[[ 0 -2 -3 -3]\n",
      " [-1 -2 -3  0]]\n"
     ]
    }
   ],
   "source": [
    "#Subtraction\n",
    "arr1=np.array([[1,3,4,5],[1,3,4,5]])\n",
    "arr2=np.array([[1,5,7,8],[2,5,7,5]])\n",
    "print(arr1)\n",
    "print(\"     -\")\n",
    "print(arr2)\n",
    "print()\n",
    "arr=arr1-arr2\n",
    "print(arr)"
   ]
  },
  {
   "cell_type": "code",
   "execution_count": 152,
   "metadata": {},
   "outputs": [
    {
     "name": "stdout",
     "output_type": "stream",
     "text": [
      "[[1 3 4 5]\n",
      " [1 3 4 5]]\n",
      "     *\n",
      "[[1 5 7 8]\n",
      " [2 5 7 5]]\n",
      "\n",
      "[[ 1 15 28 40]\n",
      " [ 2 15 28 25]]\n"
     ]
    }
   ],
   "source": [
    "#mulptiply\n",
    "arr1=np.array([[1,3,4,5],[1,3,4,5]])\n",
    "arr2=np.array([[1,5,7,8],[2,5,7,5]])\n",
    "print(arr1)\n",
    "print(\"     *\")\n",
    "print(arr2)\n",
    "print()\n",
    "arr=arr1*arr2\n",
    "print(arr)"
   ]
  },
  {
   "cell_type": "code",
   "execution_count": 26,
   "metadata": {},
   "outputs": [
    {
     "name": "stdout",
     "output_type": "stream",
     "text": [
      "[[1 3 4 5]\n",
      " [1 3 4 5]]\n",
      "     /\n",
      "[[1 5 7 8]\n",
      " [2 5 7 5]]\n",
      "\n",
      "[[1.         0.6        0.57142857 0.625     ]\n",
      " [0.5        0.6        0.57142857 1.        ]]\n"
     ]
    }
   ],
   "source": [
    "#mulptiply\n",
    "arr1=np.array([[1,3,4,5],[1,3,4,5]])\n",
    "arr2=np.array([[1,5,7,8],[2,5,7,5]])\n",
    "print(arr1)\n",
    "print(\"     /\")\n",
    "print(arr2)\n",
    "print()\n",
    "arr=arr1/arr2\n",
    "print(arr)"
   ]
  },
  {
   "cell_type": "markdown",
   "metadata": {},
   "source": [
    "# Condition"
   ]
  },
  {
   "cell_type": "code",
   "execution_count": 35,
   "metadata": {},
   "outputs": [
    {
     "data": {
      "text/plain": [
       "array([ 2,  3, 44])"
      ]
     },
     "execution_count": 35,
     "metadata": {},
     "output_type": "execute_result"
    }
   ],
   "source": [
    "a=np.array([2.3,3.4,44.3])\n",
    "a.astype(np.int32)"
   ]
  },
  {
   "cell_type": "code",
   "execution_count": null,
   "metadata": {},
   "outputs": [],
   "source": []
  },
  {
   "cell_type": "code",
   "execution_count": null,
   "metadata": {},
   "outputs": [],
   "source": []
  },
  {
   "cell_type": "code",
   "execution_count": null,
   "metadata": {},
   "outputs": [],
   "source": []
  }
 ],
 "metadata": {
  "kernelspec": {
   "display_name": "Python 3",
   "language": "python",
   "name": "python3"
  },
  "language_info": {
   "codemirror_mode": {
    "name": "ipython",
    "version": 3
   },
   "file_extension": ".py",
   "mimetype": "text/x-python",
   "name": "python",
   "nbconvert_exporter": "python",
   "pygments_lexer": "ipython3",
   "version": "3.7.3"
  }
 },
 "nbformat": 4,
 "nbformat_minor": 2
}
